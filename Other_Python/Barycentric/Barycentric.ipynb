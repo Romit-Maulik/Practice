{
 "cells": [
  {
   "cell_type": "code",
   "execution_count": 1,
   "metadata": {},
   "outputs": [],
   "source": [
    "import numpy as np\n",
    "import matplotlib.pyplot as plt"
   ]
  },
  {
   "cell_type": "code",
   "execution_count": 2,
   "metadata": {},
   "outputs": [],
   "source": [
    "# np.random.seed(45)\n",
    "# np.random.seed(100)\n",
    "# np.random.seed(334)\n",
    "try_random = True\n",
    "\n",
    "while try_random:\n",
    "    input_mat = np.random.uniform(size=(3,3))\n",
    "    sig_hyd = (1.0/3.0)*np.trace(input_mat)*np.eye(3)\n",
    "    dev_mat = input_mat - sig_hyd\n",
    "    w, v = np.linalg.eig(dev_mat)\n",
    "    \n",
    "    if np.iscomplex(w[0]) or np.iscomplex(w[1]) or np.iscomplex(w[2]):\n",
    "        continue\n",
    "    else:\n",
    "        break        "
   ]
  },
  {
   "cell_type": "code",
   "execution_count": 3,
   "metadata": {},
   "outputs": [],
   "source": [
    "c1 = w[0] - w[1]\n",
    "c2 = 2*(w[1] - w[2])\n",
    "c3 = 3*w[2] + 1"
   ]
  },
  {
   "cell_type": "code",
   "execution_count": 4,
   "metadata": {},
   "outputs": [],
   "source": [
    "x1, y1 = -0.5, 0\n",
    "x2, y2 = 0.5, 0\n",
    "x3, y3 = 0, np.sqrt(3)/2"
   ]
  },
  {
   "cell_type": "code",
   "execution_count": 5,
   "metadata": {},
   "outputs": [],
   "source": [
    "x_star = c1*x1 + c2*x2 + c3*x3 \n",
    "y_star = c1*y1 + c2*y2 + c3*y3"
   ]
  },
  {
   "cell_type": "code",
   "execution_count": 6,
   "metadata": {},
   "outputs": [
    {
     "data": {
      "image/png": "[encoded data removed]",
      "text/plain": [
       "<Figure size 432x288 with 1 Axes>"
      ]
     },
     "metadata": {
      "needs_background": "light"
     },
     "output_type": "display_data"
    }
   ],
   "source": [
    "plt.figure()\n",
    "plt.plot([x1,x2,x3],[y1,y2,y3],color='black')\n",
    "plt.plot([x2,x3,x1],[y2,y3,y1],color='black')\n",
    "plt.scatter([x1,x2,x3],[y1,y2,y3],marker=\"o\",s=200)\n",
    "plt.scatter([x_star],[y_star],marker=\"*\",s=200)\n",
    "plt.show()"
   ]
  },
  {
   "cell_type": "code",
   "execution_count": 7,
   "metadata": {},
   "outputs": [],
   "source": [
    "def segment_closest_point(x1,y1,x2,y2,x_star,y_star):\n",
    "    \n",
    "    a = y1 - y2\n",
    "    b = x2 - x1\n",
    "    c = x1*y2 - x2*y1\n",
    "    \n",
    "    k = ((y2-y1) * (x_star-x1) - (x2-x1) * (y_star-y1)) / ((y2-y1)**2 + (x2-x1)**2)\n",
    "    xe = x_star - k * (y2-y1)\n",
    "    ye = y_star + k * (x2-x1)\n",
    "    \n",
    "    # Check if projection is between end points\n",
    "    dp = np.sqrt((y2-y1)**2 + (x2-x1)**2)\n",
    "    d2 = np.sqrt((y2-ye)**2 + (x2-xe)**2)\n",
    "    d1 = np.sqrt((y1-ye)**2 + (x1-xe)**2)\n",
    "    \n",
    "    if d2 + d1 - dp < 1.0e-8: # Projection point is between end points\n",
    "        xe1, ye1 = xe, ye\n",
    "        de = np.abs(a*x_star + b*y_star + c)/(a*a+b*b)\n",
    "        return xe1, ye1, de\n",
    "    else:\n",
    "        d1 = np.sqrt((y_star-y1)**2 + (x_star-x1)**2)\n",
    "        d2 = np.sqrt((y_star-y2)**2 + (x_star-x2)**2)\n",
    "\n",
    "        if d1 < d2:\n",
    "            xe1, ye1 = x1, y1\n",
    "            de = d1\n",
    "\n",
    "        else:\n",
    "            xe1, ye1 = x2, y2\n",
    "            de = d2\n",
    "\n",
    "        return xe1, ye1, de"
   ]
  },
  {
   "cell_type": "code",
   "execution_count": 8,
   "metadata": {},
   "outputs": [],
   "source": [
    "x1vals = [x1,x2,x3,x1]\n",
    "x2vals = [x2,x3,x1,x2]\n",
    "y1vals = [y1,y2,y3,y1]\n",
    "y2vals = [y2,y3,y1,y2]\n",
    "\n",
    "xe = 0; ye = 0; de = np.inf\n",
    "for i in range(4):\n",
    "    xe_, ye_, de_ = segment_closest_point(x1vals[i],y1vals[i],x2vals[i],y2vals[i],x_star,y_star)\n",
    "    \n",
    "    if de_ < de:\n",
    "        xe = xe_; ye = ye_;"
   ]
  },
  {
   "cell_type": "code",
   "execution_count": 9,
   "metadata": {},
   "outputs": [
    {
     "data": {
      "image/png": "[encoded data removed]",
      "text/plain": [
       "<Figure size 432x288 with 1 Axes>"
      ]
     },
     "metadata": {
      "needs_background": "light"
     },
     "output_type": "display_data"
    }
   ],
   "source": [
    "plt.figure()\n",
    "plt.plot([x1,x2,x3],[y1,y2,y3],color='black')\n",
    "plt.plot([x2,x3,x1],[y2,y3,y1],color='black')\n",
    "plt.scatter([x1,x2,x3],[y1,y2,y3],marker=\"o\",s=200)\n",
    "plt.scatter([xe],[ye],marker=\"v\",s=200,label='Projected')\n",
    "plt.scatter([x_star],[y_star],marker=\"*\",s=200,label='Original')\n",
    "plt.legend()\n",
    "plt.show()"
   ]
  },
  {
   "cell_type": "code",
   "execution_count": null,
   "metadata": {},
   "outputs": [],
   "source": [
    "# Reconstruct eigenvalues from Barycentric coordinates\n",
    "tmat = np.zeros(shape=(2,2))\n",
    "tmat[0,0] = x1-x3; tmat[0,1] = x2-x3;\n",
    "tmat[1,0] = y1-y3; tmat[1,1] = y2-y3;\n",
    "r = np.zeros(shape=(2,1))\n",
    "r[0,0] = x_star - x3\n",
    "r[1,0] = y_star - y3\n",
    "\n",
    "lvals = np.matmul(np.linalg.inv(tmat),r)\n",
    "l1 = lvals[0,0]\n",
    "l2 = lvals[1,0]\n",
    "\n",
    "l3 = 1.0 - l2 - l1"
   ]
  },
  {
   "cell_type": "code",
   "execution_count": null,
   "metadata": {},
   "outputs": [],
   "source": [
    "# Reconstruct eigenvectors (to be done)"
   ]
  }
 ],
 "metadata": {
  "kernelspec": {
   "display_name": "Python 3",
   "language": "python",
   "name": "python3"
  },
  "language_info": {
   "codemirror_mode": {
    "name": "ipython",
    "version": 3
   },
   "file_extension": ".py",
   "mimetype": "text/x-python",
   "name": "python",
   "nbconvert_exporter": "python",
   "pygments_lexer": "ipython3",
   "version": "3.6.7"
  }
 },
 "nbformat": 4,
 "nbformat_minor": 4
}
