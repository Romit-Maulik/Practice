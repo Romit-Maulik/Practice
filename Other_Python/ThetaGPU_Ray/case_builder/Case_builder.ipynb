{
 "cells": [
  {
   "cell_type": "code",
   "execution_count": 1,
   "metadata": {},
   "outputs": [
    {
     "data": {
      "text/plain": [
       "['Case_builder.ipynb', 'config.yaml', '.ipynb_checkpoints']"
      ]
     },
     "execution_count": 1,
     "metadata": {},
     "output_type": "execute_result"
    }
   ],
   "source": [
    "import os, yaml\n",
    "os.listdir()"
   ]
  },
  {
   "cell_type": "code",
   "execution_count": 2,
   "metadata": {},
   "outputs": [],
   "source": [
    "num_modes_list = [10,15,20]\n",
    "input_len_list = [20,30,40]\n",
    "output_len_list = [5,10,15]\n",
    "method_list = ['BLSTM_REPEAT','LSTM_ATT']\n",
    "var_num_list = [1250,2500,5000]"
   ]
  },
  {
   "cell_type": "code",
   "execution_count": 3,
   "metadata": {},
   "outputs": [
    {
     "name": "stderr",
     "output_type": "stream",
     "text": [
      "/home/rmlans/miniconda3/envs/tf2_env/lib/python3.6/site-packages/ipykernel_launcher.py:2: YAMLLoadWarning: calling yaml.load() without Loader=... is deprecated, as the default Loader is unsafe. Please read https://msg.pyyaml.org/load for full details.\n",
      "  \n"
     ]
    }
   ],
   "source": [
    "with open(\"config.yaml\", 'r') as stream:\n",
    "    reference = yaml.load(stream)"
   ]
  },
  {
   "cell_type": "code",
   "execution_count": 4,
   "metadata": {},
   "outputs": [],
   "source": [
    "iter_num = 0\n",
    "for num_modes in num_modes_list:\n",
    "    for input_len in input_len_list:\n",
    "        for output_len in output_len_list:\n",
    "            for method in method_list:\n",
    "#                 for var_num in var_num_list:\n",
    "                reference['data_paths']['save_path'] = 'results/Experiment_'+str(iter_num)+'/'\n",
    "                reference['operation_mode']['model_choice'] = method\n",
    "#                 reference['hyperparameters'][0] = var_num\n",
    "                reference['hyperparameters'][1] = input_len\n",
    "                reference['hyperparameters'][2] = output_len\n",
    "                reference['hyperparameters'][6] = num_modes\n",
    "\n",
    "                with open(r'config_'+str(iter_num)+'.yaml', 'w') as file:\n",
    "                    documents = yaml.dump(reference, file)\n",
    "\n",
    "                iter_num+=1"
   ]
  },
  {
   "cell_type": "code",
   "execution_count": null,
   "metadata": {},
   "outputs": [],
   "source": []
  }
 ],
 "metadata": {
  "kernelspec": {
   "display_name": "Python 3",
   "language": "python",
   "name": "python3"
  },
  "language_info": {
   "codemirror_mode": {
    "name": "ipython",
    "version": 3
   },
   "file_extension": ".py",
   "mimetype": "text/x-python",
   "name": "python",
   "nbconvert_exporter": "python",
   "pygments_lexer": "ipython3",
   "version": "3.6.7"
  }
 },
 "nbformat": 4,
 "nbformat_minor": 4
}
