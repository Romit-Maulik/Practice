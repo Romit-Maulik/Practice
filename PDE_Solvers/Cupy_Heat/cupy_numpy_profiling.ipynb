{
 "cells": [
  {
   "cell_type": "code",
   "execution_count": 0,
   "metadata": {
    "colab": {
     "base_uri": "https://localhost:8080/",
     "height": 244
    },
    "colab_type": "code",
    "id": "B3OJ2EYMy3Ms",
    "outputId": "522d7ac9-23ab-4dcc-8bfa-3b7196a5f425"
   },
   "outputs": [
    {
     "name": "stdout",
     "output_type": "stream",
     "text": [
      "Collecting cupy\n",
      "\u001b[?25l  Downloading https://files.pythonhosted.org/packages/ca/8d/45b337f7b19811988ba475b07d9ebd3bf2914b85d99783a66bec7f58554c/cupy-6.3.0.tar.gz (3.1MB)\n",
      "\u001b[K     |████████████████████████████████| 3.1MB 4.8MB/s \n",
      "\u001b[?25hRequirement already satisfied: numpy>=1.9.0 in /usr/local/lib/python3.6/dist-packages (from cupy) (1.16.4)\n",
      "Requirement already satisfied: six>=1.9.0 in /usr/local/lib/python3.6/dist-packages (from cupy) (1.12.0)\n",
      "Requirement already satisfied: fastrlock>=0.3 in /usr/local/lib/python3.6/dist-packages (from cupy) (0.4)\n",
      "Building wheels for collected packages: cupy\n",
      "  Building wheel for cupy (setup.py) ... \u001b[?25l\u001b[?25hdone\n",
      "  Created wheel for cupy: filename=cupy-6.3.0-cp36-cp36m-linux_x86_64.whl size=26507104 sha256=2856676cb758c13da705635fc519c515ee0438e2f34bff6a8983092a2966d94d\n",
      "  Stored in directory: /root/.cache/pip/wheels/49/05/7a/f968e2923d52197be7f850e3d83b3976e2e8ea957e6a2f81f8\n",
      "Successfully built cupy\n",
      "Installing collected packages: cupy\n",
      "Successfully installed cupy-6.3.0\n"
     ]
    }
   ],
   "source": [
    "!pip install cupy"
   ]
  },
  {
   "cell_type": "code",
   "execution_count": 0,
   "metadata": {
    "colab": {},
    "colab_type": "code",
    "id": "hCQ5mB0bzuaz"
   },
   "outputs": [],
   "source": [
    "import numpy as np\n",
    "import cupy as cp\n",
    "import matplotlib.pyplot as plt\n",
    "import time"
   ]
  },
  {
   "cell_type": "code",
   "execution_count": 0,
   "metadata": {
    "colab": {},
    "colab_type": "code",
    "id": "QDQdJVEE2-6J"
   },
   "outputs": [],
   "source": [
    "# Define a 2D domain for assessing heat equation and parameters\n",
    "nx = 512\n",
    "ny = 512\n",
    "\n",
    "#Cell sizes\n",
    "dx = 2.0*np.pi/float(nx)\n",
    "dy = 2.0*np.pi/float(ny)\n",
    "\n",
    "#Indices\n",
    "index_range = cp.arange(0,nx+2)\n",
    "x, y = cp.meshgrid(dx*index_range-dx,dy*index_range-dy)\n",
    "#Initialize on device\n",
    "u = cp.array(cp.sin(x+y))\n",
    "#Initialize on host\n",
    "ucpu = cp.asnumpy(cp.sin(x+y))\n",
    "\n",
    "#diffusion parameter\n",
    "alpha = 0.8\n",
    "#Stable timestep\n",
    "dt = 0.8*dx*dx/(4.0*alpha)\n",
    "const_mult = alpha*dt/(dx*dx)\n",
    "\n",
    "#length of solution\n",
    "ft = 1.0\n",
    "nt = int(ft/dt)"
   ]
  },
  {
   "cell_type": "code",
   "execution_count": 0,
   "metadata": {
    "colab": {},
    "colab_type": "code",
    "id": "J5Mdc96p_Oh6"
   },
   "outputs": [],
   "source": [
    "# Function to plot the field\n",
    "def plot_field_gpu(x,y,u,title):\n",
    "    ucpu = cp.asnumpy(u) # in case arrays are in device\n",
    "    xcpu = cp.asnumpy(x)\n",
    "    ycpu = cp.asnumpy(y)\n",
    "    #levels = np.linspace(-1, 1, 20)\n",
    "    fig, ax = plt.subplots(nrows=1,ncols=1)\n",
    "    ax.set_title(title)\n",
    "    p1 = ax.contourf(xcpu,ycpu,ucpu)\n",
    "    plt.colorbar(p1,ax=ax)#,format=\"%.2f\"\n",
    "    plt.show()"
   ]
  },
  {
   "cell_type": "code",
   "execution_count": 122,
   "metadata": {
    "colab": {
     "base_uri": "https://localhost:8080/",
     "height": 281
    },
    "colab_type": "code",
    "id": "iiHrvFmd_9aV",
    "outputId": "3e9a762f-8cb5-48fa-8e0e-f33743146459"
   },
   "outputs": [
    {
     "data": {
      "image/png": "[encoded data removed]",
      "text/plain": [
       "<Figure size 432x288 with 2 Axes>"
      ]
     },
     "metadata": {
      "tags": []
     },
     "output_type": "display_data"
    }
   ],
   "source": [
    "# Plotting the initial condition\n",
    "plot_field(x,y,u,'Initial condition')"
   ]
  },
  {
   "cell_type": "code",
   "execution_count": 0,
   "metadata": {
    "colab": {},
    "colab_type": "code",
    "id": "N89ARVRaCXNZ"
   },
   "outputs": [],
   "source": [
    "# Function for looping FTCS - cpu\n",
    "def vectorized_ftcs_cpu(u):\n",
    "  \n",
    "    utemp = np.copy(u)\n",
    "    t = 0\n",
    "    while t<nt:\n",
    "        t = t+1\n",
    "        utemp[:,:] = u[:,:]\n",
    "        u[1:nx+1,1:ny+1] = utemp[1:nx+1,1:ny+1] + const_mult*(-4.0*utemp[1:nx+1,1:ny+1]+(utemp[0:nx,1:ny+1]+\n",
    "                            utemp[2:nx+2,1:ny+1]+utemp[1:nx+1,0:ny]+utemp[1:nx+1,2:ny+2]))\n",
    "\n",
    "        #Update BCS\n",
    "        #Need to update BCs - x direction\n",
    "        u[0:1,1:ny+1] = u[nx:nx+1,1:ny+1]\n",
    "        u[nx+1:nx+2,1:ny+1] = u[1:2,1:ny+1]\n",
    "\n",
    "        #Need to update BCs - y direction\n",
    "        u[0:nx+2,0:1] = u[0:nx+2,ny:ny+1]\n",
    "        u[0:nx+2,ny+1:ny+2] = u[0:nx+2,1:2]\n",
    "\n",
    "    del(utemp)\n",
    "    return u"
   ]
  },
  {
   "cell_type": "code",
   "execution_count": 0,
   "metadata": {
    "colab": {},
    "colab_type": "code",
    "id": "r4NAeE0q4Yml"
   },
   "outputs": [],
   "source": [
    "# Function for looping FTCS - gpu\n",
    "def vectorized_ftcs_gpu(u):\n",
    "\n",
    "    utemp = cp.copy(u,order='C')\n",
    "\n",
    "    t = 0\n",
    "    while t<nt:\n",
    "        t = t+1\n",
    "        utemp[:,:] = u[:,:]\n",
    "\n",
    "        u[1:nx+1,1:ny+1] = utemp[1:nx+1,1:ny+1] + const_mult*(-4.0*utemp[1:nx+1,1:ny+1]+(utemp[0:nx,1:ny+1]+\n",
    "                            utemp[2:nx+2,1:ny+1]+utemp[1:nx+1,0:ny]+utemp[1:nx+1,2:ny+2]))\n",
    "\n",
    "        #Update BCS\n",
    "        #Need to update BCs - x direction\n",
    "        u[0:1,1:ny+1] = u[nx:nx+1,1:ny+1]\n",
    "        u[nx+1:nx+2,1:ny+1] = u[1:2,1:ny+1]\n",
    "\n",
    "        #Need to update BCs - y direction\n",
    "        u[0:nx+2,0:1] = u[0:nx+2,ny:ny+1]\n",
    "        u[0:nx+2,ny+1:ny+2] = u[0:nx+2,1:2]\n",
    " \n",
    "    del(utemp)\n",
    "    return u"
   ]
  },
  {
   "cell_type": "code",
   "execution_count": 125,
   "metadata": {
    "colab": {
     "base_uri": "https://localhost:8080/",
     "height": 298
    },
    "colab_type": "code",
    "id": "883rBM56DM13",
    "outputId": "05ed93c8-6861-41f8-9c37-7a14a4db270f"
   },
   "outputs": [
    {
     "name": "stdout",
     "output_type": "stream",
     "text": [
      "CPU time taken for vectorized FTCS:  61.932042837142944\n"
     ]
    },
    {
     "data": {
      "image/png": "[encoded data removed]",
      "text/plain": [
       "<Figure size 432x288 with 2 Axes>"
      ]
     },
     "metadata": {
      "tags": []
     },
     "output_type": "display_data"
    }
   ],
   "source": [
    "t1 = time.time()\n",
    "ucpu = vectorized_ftcs_cpu(ucpu)\n",
    "print('CPU time taken for vectorized FTCS: ',time.time()-t1)\n",
    "plot_field(x,y,ucpu,'Final solution')"
   ]
  },
  {
   "cell_type": "code",
   "execution_count": 126,
   "metadata": {
    "colab": {
     "base_uri": "https://localhost:8080/",
     "height": 298
    },
    "colab_type": "code",
    "id": "LO9Nh_u8DVTS",
    "outputId": "f311b10d-a4db-40b5-eb6a-e2381f94e3fb"
   },
   "outputs": [
    {
     "name": "stdout",
     "output_type": "stream",
     "text": [
      "GPU time taken for vectorized FTCS:  5.743999481201172\n"
     ]
    },
    {
     "data": {
      "image/png": "[encoded data removed]",
      "text/plain": [
       "<Figure size 432x288 with 2 Axes>"
      ]
     },
     "metadata": {
      "tags": []
     },
     "output_type": "display_data"
    }
   ],
   "source": [
    "t1 = time.time()\n",
    "u = vectorized_ftcs_gpu(u)\n",
    "print('GPU time taken for vectorized FTCS: ',time.time()-t1)\n",
    "plot_field(x,y,u,'Final solution')"
   ]
  },
  {
   "cell_type": "code",
   "execution_count": 0,
   "metadata": {
    "colab": {},
    "colab_type": "code",
    "id": "ngM7wg2hItaT"
   },
   "outputs": [],
   "source": []
  }
 ],
 "metadata": {
  "accelerator": "GPU",
  "colab": {
   "collapsed_sections": [],
   "name": "cupy_cumpy_profiling.ipynb",
   "provenance": [],
   "version": "0.3.2"
  },
  "kernelspec": {
   "display_name": "Python 3",
   "language": "python",
   "name": "python3"
  },
  "language_info": {
   "codemirror_mode": {
    "name": "ipython",
    "version": 3
   },
   "file_extension": ".py",
   "mimetype": "text/x-python",
   "name": "python",
   "nbconvert_exporter": "python",
   "pygments_lexer": "ipython3",
   "version": "3.6.8"
  }
 },
 "nbformat": 4,
 "nbformat_minor": 1
}
