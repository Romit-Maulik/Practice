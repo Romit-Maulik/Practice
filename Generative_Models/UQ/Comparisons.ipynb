{
 "cells": [
  {
   "cell_type": "code",
   "execution_count": 1,
   "id": "2a159fd0",
   "metadata": {},
   "outputs": [],
   "source": [
    "import numpy as np\n",
    "np.random.seed(10)\n",
    "import matplotlib.pyplot as plt"
   ]
  },
  {
   "cell_type": "code",
   "execution_count": 2,
   "id": "4eae2cda",
   "metadata": {},
   "outputs": [],
   "source": [
    "def load_partition_data():\n",
    "    # Load data\n",
    "    x = np.random.uniform(low=-4.0,high=4.0,size=(200,1))\n",
    "    y = x**3 + np.random.normal(0,9)\n",
    "    \n",
    "    total_data = np.concatenate((x,y),axis=-1)\n",
    "    \n",
    "    train_data = total_data[:40]\n",
    "    valid_data = total_data[40:60]\n",
    "    test_data = total_data[60:]\n",
    "\n",
    "    data_tuple = (train_data, valid_data, test_data)\n",
    "\n",
    "    return data_tuple"
   ]
  },
  {
   "cell_type": "code",
   "execution_count": 3,
   "id": "08f688de",
   "metadata": {},
   "outputs": [],
   "source": [
    "data_tuple = load_partition_data()"
   ]
  },
  {
   "cell_type": "code",
   "execution_count": 4,
   "id": "375fdd9f",
   "metadata": {},
   "outputs": [],
   "source": [
    "train_mode = True"
   ]
  },
  {
   "cell_type": "code",
   "execution_count": 5,
   "id": "36c9595d",
   "metadata": {},
   "outputs": [
    {
     "name": "stdout",
     "output_type": "stream",
     "text": [
      "Training iteration: 0\n",
      "Improved validation loss from: inf  to: 21.729017639160155\n",
      "Training iteration: 1\n",
      "Improved validation loss from: 21.729017639160155  to: 6.521699523925781\n",
      "Training iteration: 2\n",
      "Improved validation loss from: 6.521699523925781  to: 4.444422912597656\n",
      "Training iteration: 3\n",
      "Validation loss (no improvement): 19.999964904785156\n",
      "Training iteration: 4\n",
      "Validation loss (no improvement): 16.69230499267578\n",
      "Training iteration: 5\n",
      "Validation loss (no improvement): 34.87384033203125\n",
      "Training iteration: 6\n",
      "Improved validation loss from: 4.444422912597656  to: 4.2552642822265625\n",
      "Training iteration: 7\n",
      "Validation loss (no improvement): 86.611328125\n",
      "Training iteration: 8\n",
      "Validation loss (no improvement): 10.360823822021484\n",
      "Training iteration: 9\n",
      "Validation loss (no improvement): 22.940144348144532\n",
      "Training iteration: 10\n",
      "Validation loss (no improvement): 61.13145751953125\n",
      "Training iteration: 11\n",
      "Validation loss (no improvement): 11.62786636352539\n",
      "Training iteration: 12\n",
      "Validation loss (no improvement): 9.589964294433594\n",
      "Training iteration: 13\n",
      "Validation loss (no improvement): 61.839794921875\n",
      "Training iteration: 14\n",
      "Validation loss (no improvement): 73.75405883789062\n",
      "Training iteration: 15\n",
      "Validation loss (no improvement): 52.59995727539062\n",
      "Training iteration: 16\n",
      "Validation loss (no improvement): 25.0589599609375\n",
      "Training iteration: 17\n",
      "Validation loss (no improvement): 14.976182556152343\n",
      "Training iteration: 18\n",
      "Validation loss (no improvement): 14.281918334960938\n",
      "Training iteration: 19\n",
      "Validation loss (no improvement): 65.83199462890624\n",
      "Training iteration: 20\n",
      "Validation loss (no improvement): 40.9900634765625\n",
      "Training iteration: 21\n",
      "Validation loss (no improvement): 13.576083374023437\n",
      "Training iteration: 22\n",
      "Validation loss (no improvement): 37.0989501953125\n",
      "Training iteration: 23\n",
      "Validation loss (no improvement): 14.420881652832032\n",
      "Training iteration: 24\n",
      "Validation loss (no improvement): 62.472930908203125\n",
      "Training iteration: 25\n",
      "Validation loss (no improvement): 8.168733978271485\n",
      "Training iteration: 26\n",
      "Validation loss (no improvement): 18.969586181640626\n",
      "Training iteration: 27\n",
      "Improved validation loss from: 4.2552642822265625  to: 3.393009567260742\n",
      "Training iteration: 28\n",
      "Validation loss (no improvement): 28.749087524414062\n",
      "Training iteration: 29\n",
      "Validation loss (no improvement): 62.432708740234375\n",
      "Training iteration: 30\n",
      "Validation loss (no improvement): 8.770030975341797\n",
      "Training iteration: 31\n",
      "Validation loss (no improvement): 16.83293762207031\n",
      "Training iteration: 32\n",
      "Validation loss (no improvement): 54.43177490234375\n",
      "Training iteration: 33\n",
      "Improved validation loss from: 3.393009567260742  to: 2.2638822555541993\n",
      "Training iteration: 34\n",
      "Validation loss (no improvement): 8.809063720703126\n",
      "Training iteration: 35\n",
      "Validation loss (no improvement): 13.836448669433594\n",
      "Training iteration: 36\n",
      "Validation loss (no improvement): 42.155462646484374\n",
      "Training iteration: 37\n",
      "Validation loss (no improvement): 38.34225158691406\n",
      "Training iteration: 38\n",
      "Improved validation loss from: 2.2638822555541993  to: 1.7931529998779296\n",
      "Training iteration: 39\n",
      "Validation loss (no improvement): 4.333240127563476\n",
      "Training iteration: 40\n",
      "Validation loss (no improvement): 33.66883850097656\n",
      "Training iteration: 41\n",
      "Validation loss (no improvement): 72.36488647460938\n",
      "Training iteration: 42\n",
      "Improved validation loss from: 1.7931529998779296  to: 1.738970947265625\n",
      "Training iteration: 43\n",
      "Validation loss (no improvement): 45.568023681640625\n",
      "Training iteration: 44\n",
      "Validation loss (no improvement): 2.541224479675293\n",
      "Training iteration: 45\n",
      "Validation loss (no improvement): 54.554168701171875\n",
      "Training iteration: 46\n",
      "Validation loss (no improvement): 31.267547607421875\n",
      "Training iteration: 47\n",
      "Validation loss (no improvement): 6.091020202636718\n",
      "Training iteration: 48\n",
      "Validation loss (no improvement): 4.964102554321289\n",
      "Training iteration: 49\n",
      "Validation loss (no improvement): 12.621026611328125\n",
      "Training iteration: 50\n",
      "Validation loss (no improvement): 11.388192749023437\n",
      "Training iteration: 51\n",
      "Validation loss (no improvement): 46.890435791015626\n",
      "Training iteration: 52\n",
      "Validation loss (no improvement): 12.274197387695313\n",
      "Training iteration: 53\n",
      "Validation loss (no improvement): 37.6566650390625\n",
      "Training iteration: 54\n",
      "Validation loss (no improvement): 46.3899658203125\n",
      "Training iteration: 55\n",
      "Validation loss (no improvement): 7.108729553222656\n",
      "Training iteration: 56\n",
      "Validation loss (no improvement): 11.45461196899414\n",
      "Training iteration: 57\n",
      "Validation loss (no improvement): 29.134561157226564\n",
      "Training iteration: 58\n",
      "Validation loss (no improvement): 24.925556945800782\n",
      "Training iteration: 59\n",
      "Validation loss (no improvement): 9.850077056884766\n",
      "Training iteration: 60\n",
      "Validation loss (no improvement): 10.286294555664062\n",
      "Training iteration: 61\n",
      "Validation loss (no improvement): 11.612155151367187\n",
      "Training iteration: 62\n",
      "Validation loss (no improvement): 16.630209350585936\n",
      "Training iteration: 63\n",
      "Validation loss (no improvement): 32.198245239257815\n",
      "Training iteration: 64\n",
      "Validation loss (no improvement): 6.859958648681641\n",
      "Training iteration: 65\n",
      "Validation loss (no improvement): 28.523171997070314\n",
      "Training iteration: 66\n",
      "Validation loss (no improvement): 4.043453598022461\n",
      "Training iteration: 67\n",
      "Validation loss (no improvement): 53.74130859375\n",
      "Training iteration: 68\n",
      "Validation loss (no improvement): 30.352279663085938\n",
      "Training iteration: 69\n",
      "Validation loss (no improvement): 4.272188186645508\n",
      "Training iteration: 70\n",
      "Validation loss (no improvement): 13.411662292480468\n",
      "Training iteration: 71\n",
      "Validation loss (no improvement): 20.91080322265625\n",
      "Training iteration: 72\n",
      "Validation loss (no improvement): 21.06244659423828\n",
      "Training iteration: 73\n",
      "Validation loss (no improvement): 19.13751983642578\n",
      "Training iteration: 74\n",
      "Validation loss (no improvement): 8.432093811035156\n",
      "Training iteration: 75\n",
      "Validation loss (no improvement): 2.4524871826171877\n",
      "Training iteration: 76\n",
      "Validation loss (no improvement): 1.934107208251953\n",
      "Training iteration: 77\n",
      "Validation loss (no improvement): 4.734551620483399\n",
      "Training iteration: 78\n",
      "Validation loss (no improvement): 8.392078399658203\n",
      "Training iteration: 79\n",
      "Validation loss (no improvement): 8.327772521972657\n",
      "Training iteration: 80\n",
      "Validation loss (no improvement): 11.108100128173827\n",
      "Training iteration: 81\n",
      "Validation loss (no improvement): 7.384531402587891\n",
      "Training iteration: 82\n",
      "Validation loss (no improvement): 26.026971435546876\n",
      "Training iteration: 83\n",
      "Validation loss (no improvement): 17.05103454589844\n",
      "Training iteration: 84\n",
      "Validation loss (no improvement): 6.476197052001953\n",
      "Training iteration: 85\n",
      "Validation loss (no improvement): 7.082286834716797\n",
      "Training iteration: 86\n",
      "Validation loss (no improvement): 10.304844665527344\n",
      "Training iteration: 87\n",
      "Validation loss (no improvement): 9.738814544677734\n",
      "Training iteration: 88\n",
      "Validation loss (no improvement): 2.761581802368164\n",
      "Training iteration: 89\n",
      "Validation loss (no improvement): 5.442688751220703\n",
      "Training iteration: 90\n",
      "Validation loss (no improvement): 16.939056396484375\n",
      "Training iteration: 91\n",
      "Validation loss (no improvement): 11.020332336425781\n",
      "Training iteration: 92\n",
      "Validation loss (no improvement): 2.9031194686889648\n",
      "Training iteration: 93\n",
      "Validation loss (no improvement): 12.734667205810547\n",
      "Training iteration: 94\n",
      "Validation loss (no improvement): 4.22699089050293\n",
      "Training iteration: 95\n",
      "Validation loss (no improvement): 23.259922790527344\n",
      "Training iteration: 96\n",
      "Validation loss (no improvement): 17.315586853027344\n",
      "Training iteration: 97\n",
      "Validation loss (no improvement): 43.145651245117186\n",
      "Training iteration: 98\n",
      "Validation loss (no improvement): 54.66873779296875\n",
      "Training iteration: 99\n",
      "Validation loss (no improvement): 26.620355224609376\n",
      "Training iteration: 100\n",
      "Validation loss (no improvement): 8.507333374023437\n",
      "Training iteration: 101\n",
      "Validation loss (no improvement): 25.23204650878906\n",
      "Training iteration: 102\n",
      "Validation loss (no improvement): 2.6241455078125\n",
      "Training iteration: 103\n",
      "Validation loss (no improvement): 14.910197448730468\n",
      "Training iteration: 104\n",
      "Validation loss (no improvement): 30.8444580078125\n",
      "Training iteration: 105\n",
      "Validation loss (no improvement): 5.08154525756836\n",
      "Training iteration: 106\n",
      "Validation loss (no improvement): 18.705157470703124\n",
      "Training iteration: 107\n",
      "Validation loss (no improvement): 1.9901018142700195\n",
      "Training iteration: 108\n"
     ]
    },
    {
     "name": "stdout",
     "output_type": "stream",
     "text": [
      "Validation loss (no improvement): 70.97710571289062\n",
      "Training iteration: 109\n",
      "Validation loss (no improvement): 5.421914672851562\n",
      "Training iteration: 110\n",
      "Validation loss (no improvement): 20.0685546875\n",
      "Training iteration: 111\n",
      "Validation loss (no improvement): 52.997918701171876\n",
      "Training iteration: 112\n",
      "Validation loss (no improvement): 9.614104461669921\n",
      "Training iteration: 113\n",
      "Validation loss (no improvement): 63.15919799804688\n",
      "Training iteration: 114\n",
      "Validation loss (no improvement): 69.92218017578125\n",
      "Training iteration: 115\n",
      "Validation loss (no improvement): 3.6385040283203125\n",
      "Training iteration: 116\n",
      "Validation loss (no improvement): 56.210687255859376\n",
      "Training iteration: 117\n",
      "Validation loss (no improvement): 17.39927978515625\n",
      "Training iteration: 118\n",
      "Validation loss (no improvement): 28.42991943359375\n",
      "Training iteration: 119\n",
      "Validation loss (no improvement): 7.501902008056641\n",
      "Training iteration: 120\n",
      "Validation loss (no improvement): 12.795675659179688\n",
      "Training iteration: 121\n",
      "Validation loss (no improvement): 16.035691833496095\n",
      "Training iteration: 122\n",
      "Validation loss (no improvement): 41.85693359375\n",
      "Training iteration: 123\n",
      "Validation loss (no improvement): 9.923639678955078\n",
      "Training iteration: 124\n",
      "Validation loss (no improvement): 14.462632751464843\n",
      "Training iteration: 125\n",
      "Validation loss (no improvement): 12.826553344726562\n",
      "Training iteration: 126\n",
      "Validation loss (no improvement): 31.578717041015626\n",
      "Training iteration: 127\n",
      "Validation loss (no improvement): 12.50475616455078\n",
      "Training iteration: 128\n",
      "Validation loss (no improvement): 25.33141326904297\n",
      "Training iteration: 129\n",
      "Validation loss (no improvement): 5.7811836242675785\n",
      "Training iteration: 130\n",
      "Validation loss (no improvement): 15.118411254882812\n",
      "Training iteration: 131\n",
      "Validation loss (no improvement): 10.26531753540039\n",
      "Training iteration: 132\n",
      "Validation loss (no improvement): 12.180615997314453\n",
      "Training iteration: 133\n",
      "Validation loss (no improvement): 1.864866065979004\n",
      "Training iteration: 134\n",
      "Validation loss (no improvement): 39.006466674804685\n",
      "Training iteration: 135\n",
      "Validation loss (no improvement): 3.406116485595703\n",
      "Training iteration: 136\n",
      "Validation loss (no improvement): 32.53165893554687\n",
      "Training iteration: 137\n",
      "Validation loss (no improvement): 51.26759033203125\n",
      "Training iteration: 138\n",
      "Validation loss (no improvement): 4.030458450317383\n",
      "Training iteration: 139\n",
      "Validation loss (no improvement): 10.326156616210938\n",
      "Training iteration: 140\n",
      "Validation loss (no improvement): 30.422140502929686\n",
      "Training iteration: 141\n",
      "Validation loss (no improvement): 5.922687530517578\n",
      "Training iteration: 142\n",
      "Validation loss (no improvement): 10.37152328491211\n"
     ]
    }
   ],
   "source": [
    "from variational import variational_model\n",
    "variational_model = variational_model(data_tuple,lrate=0.0001,num_epochs=4000)\n",
    "if train_mode:\n",
    "    variational_model.train_model()\n",
    "variational_model.model_inference()\n",
    "# Variational Bayes\n",
    "variational_predictions = np.load('Variational_predictions.npy')\n",
    "variational_mean = np.mean(variational_predictions,axis=0)\n",
    "variational_std = np.std(variational_predictions,axis=0)"
   ]
  },
  {
   "cell_type": "code",
   "execution_count": 6,
   "id": "706a24f6",
   "metadata": {},
   "outputs": [],
   "source": [
    "train_mode = False"
   ]
  },
  {
   "cell_type": "code",
   "execution_count": 7,
   "id": "4c90035b",
   "metadata": {},
   "outputs": [],
   "source": [
    "from baseline import baseline_model\n",
    "baseline_model = baseline_model(data_tuple,lrate=0.01,num_epochs=4000)\n",
    "if train_mode:\n",
    "    baseline_model.train_model()\n",
    "baseline_model.model_inference()\n",
    "# Load baseline\n",
    "baseline = np.load('Baseline_prediction.npy')"
   ]
  },
  {
   "cell_type": "code",
   "execution_count": 8,
   "id": "5f97e8d3",
   "metadata": {},
   "outputs": [],
   "source": [
    "from dropout import dropout_model\n",
    "dropout_model = dropout_model(data_tuple,lrate=0.01,num_epochs=4000)\n",
    "if train_mode:\n",
    "    dropout_model.train_model()\n",
    "dropout_model.model_inference()\n",
    "# Load dropout\n",
    "dropout = np.load('Dropout_predictions.npy')\n",
    "dropout_mean = np.mean(dropout,axis=0)\n",
    "dropout_std = np.std(dropout,axis=0)"
   ]
  },
  {
   "cell_type": "code",
   "execution_count": 9,
   "id": "564045fc",
   "metadata": {},
   "outputs": [
    {
     "name": "stderr",
     "output_type": "stream",
     "text": [
      "/home/rmlans/anaconda3/envs/tf2_tfp_env/lib/python3.7/site-packages/tensorflow/python/keras/engine/base_layer.py:2281: UserWarning: `layer.add_variable` is deprecated and will be removed in a future version. Please use `layer.add_weight` method instead.\n",
      "  warnings.warn('`layer.add_variable` is deprecated and '\n"
     ]
    }
   ],
   "source": [
    "from flipout import flipout_model\n",
    "flipout_model = flipout_model(data_tuple,lrate=0.01,num_epochs=4000)\n",
    "if train_mode:\n",
    "    flipout_model.train_model()\n",
    "flipout_model.model_inference()\n",
    "# Load flipout\n",
    "flipout_preds = np.load('Flipout_predictions.npy')\n",
    "flipout_mean = np.mean(flipout_preds,axis=0)\n",
    "flipout_std = np.std(flipout_preds,axis=0)"
   ]
  },
  {
   "cell_type": "code",
   "execution_count": 10,
   "id": "1bd33ce1",
   "metadata": {},
   "outputs": [],
   "source": [
    "from pnn import pnn_model\n",
    "pnn_model = pnn_model(data_tuple,lrate=0.01,num_epochs=4000)\n",
    "if train_mode:\n",
    "    pnn_model.train_model()\n",
    "pnn_model.model_inference()\n",
    "# Load mixture\n",
    "pnn_mean = np.load('pnn_mean.npy')\n",
    "pnn_logvar = np.load('pnn_var.npy')\n",
    "pnn_std = np.sqrt(np.exp(pnn_logvar))"
   ]
  },
  {
   "cell_type": "code",
   "execution_count": 11,
   "id": "3ce19d5c",
   "metadata": {},
   "outputs": [],
   "source": [
    "from weight_averaging import weight_averaging\n",
    "weight_averaging = weight_averaging(data_tuple,lrate=0.01,num_epochs=4000)\n",
    "if train_mode:\n",
    "    weight_averaging.train_model()\n",
    "weight_averaging.model_inference()\n",
    "# Load mixture\n",
    "wa_mean = np.load('Weight_averaging_mean.npy')\n",
    "wa_std = np.load('Weight_averaging_std.npy')"
   ]
  },
  {
   "cell_type": "code",
   "execution_count": 12,
   "id": "e09b57f7",
   "metadata": {},
   "outputs": [],
   "source": [
    "from ensemble import ensemble_model\n",
    "if train_mode:\n",
    "\n",
    "    temp_model = ensemble_model(data_tuple,lrate=0.01,num_epochs=4000)\n",
    "    temp_model.train_model()\n",
    "    temp_model.model_inference()\n",
    "    ensemble_mean_1 = np.load('Single_Ensemble_mean.npy')\n",
    "    ensemble_logvar = np.load('Single_Ensemble_var.npy')\n",
    "    ensemble_std_1 = np.sqrt(np.exp(ensemble_logvar))\n",
    "    \n",
    "    temp_model = ensemble_model(data_tuple,lrate=0.01,num_epochs=4000)\n",
    "    temp_model.train_model()\n",
    "    temp_model.model_inference()\n",
    "    ensemble_mean_2 = np.load('Single_Ensemble_mean.npy')\n",
    "    ensemble_logvar = np.load('Single_Ensemble_var.npy')\n",
    "    ensemble_std_2 = np.sqrt(np.exp(ensemble_logvar))\n",
    "    \n",
    "    temp_model = ensemble_model(data_tuple,lrate=0.01,num_epochs=4000)\n",
    "    temp_model.train_model()\n",
    "    temp_model.model_inference()\n",
    "    ensemble_mean_3 = np.load('Single_Ensemble_mean.npy')\n",
    "    ensemble_logvar = np.load('Single_Ensemble_var.npy')\n",
    "    ensemble_std_3 = np.sqrt(np.exp(ensemble_logvar))\n",
    "    \n",
    "    temp_model = ensemble_model(data_tuple,lrate=0.01,num_epochs=4000)\n",
    "    temp_model.train_model()\n",
    "    temp_model.model_inference()\n",
    "    ensemble_mean_4 = np.load('Single_Ensemble_mean.npy')\n",
    "    ensemble_logvar = np.load('Single_Ensemble_var.npy')\n",
    "    ensemble_std_4 = np.sqrt(np.exp(ensemble_logvar))\n",
    "    \n",
    "    temp_model = ensemble_model(data_tuple,lrate=0.01,num_epochs=4000)\n",
    "    temp_model.train_model()\n",
    "    temp_model.model_inference()\n",
    "    ensemble_mean_5 = np.load('Single_Ensemble_mean.npy')\n",
    "    ensemble_logvar = np.load('Single_Ensemble_var.npy')\n",
    "    ensemble_std_5 = np.sqrt(np.exp(ensemble_logvar))\n",
    "    \n",
    "    \n",
    "    ensemble_mean = (ensemble_mean_1+ensemble_mean_2+ensemble_mean_3+ensemble_mean_4+ensemble_mean_5)/5.0\n",
    "\n",
    "    ensemble_var = ensemble_mean_1**2 + ensemble_std_1**2 + ensemble_mean_2**2 + ensemble_std_2**2 + ensemble_mean_3**2 + ensemble_std_3**2 + ensemble_mean_4**2 + ensemble_std_4**2 + ensemble_mean_5**2 + ensemble_std_5**2\n",
    "    ensemble_var = ensemble_var/5.0 - ensemble_mean**2\n",
    "    ensemble_std = np.sqrt(ensemble_var)\n",
    "    \n",
    "    np.save('Deep_ensembles_mean.npy',ensemble_mean)\n",
    "    np.save('Deep_ensembles_std.npy',ensemble_std)\n",
    "    \n",
    "else:\n",
    "    ensemble_mean = np.load('Deep_ensembles_mean.npy')\n",
    "    ensemble_std = np.load('Deep_ensembles_std.npy')"
   ]
  },
  {
   "cell_type": "code",
   "execution_count": 13,
   "id": "fde47d05",
   "metadata": {},
   "outputs": [],
   "source": [
    "arr1inds = data_tuple[2][:,0].argsort()"
   ]
  },
  {
   "cell_type": "code",
   "execution_count": 14,
   "id": "0fd05578",
   "metadata": {},
   "outputs": [
    {
     "data": {
      "image/png": "[encoded data removed]",
      "text/plain": [
       "<Figure size 432x288 with 1 Axes>"
      ]
     },
     "metadata": {
      "needs_background": "light"
     },
     "output_type": "display_data"
    }
   ],
   "source": [
    "plt.figure()\n",
    "plt.plot(data_tuple[2][arr1inds,0],data_tuple[2][arr1inds,1],label='Truth')\n",
    "plt.plot(data_tuple[2][arr1inds,0],baseline[arr1inds,0],label='Baseline')\n",
    "plt.plot(data_tuple[2][arr1inds,0],dropout_mean[arr1inds,0],label='Dropout mean')\n",
    "plt.plot(data_tuple[2][arr1inds,0],pnn_mean[arr1inds,0],label='PNN mean')\n",
    "plt.plot(data_tuple[2][arr1inds,0],ensemble_mean[arr1inds,0],label='Ensemble mean')\n",
    "plt.plot(data_tuple[2][arr1inds,0],wa_mean[arr1inds,0],label='SWA mean')\n",
    "plt.plot(data_tuple[2][arr1inds,0],flipout_mean[arr1inds,0],label='Flipout mean')\n",
    "plt.plot(data_tuple[2][arr1inds,0],variational_mean[arr1inds,0],label='Variational mean')\n",
    "plt.legend()\n",
    "plt.ylim()\n",
    "plt.show()"
   ]
  },
  {
   "cell_type": "code",
   "execution_count": 15,
   "id": "77e74926",
   "metadata": {},
   "outputs": [
    {
     "data": {
      "image/png": "[encoded data removed]",
      "text/plain": [
       "<Figure size 432x288 with 1 Axes>"
      ]
     },
     "metadata": {
      "needs_background": "light"
     },
     "output_type": "display_data"
    }
   ],
   "source": [
    "plt.figure()\n",
    "plt.plot(data_tuple[2][arr1inds,0],data_tuple[2][arr1inds,1],label='Truth')\n",
    "plt.plot(data_tuple[2][arr1inds,0],flipout_mean[arr1inds,0],label='Flipout mean')\n",
    "plt.fill_between(x=data_tuple[2][arr1inds,0],y1=flipout_mean[arr1inds,0]-3*flipout_std[arr1inds,0],y2=flipout_mean[arr1inds,0]+3*flipout_std[arr1inds,0])\n",
    "# plt.ylim(-100,100)\n",
    "plt.legend()\n",
    "plt.ylim()\n",
    "plt.show()"
   ]
  },
  {
   "cell_type": "code",
   "execution_count": 16,
   "id": "4a142edc",
   "metadata": {},
   "outputs": [
    {
     "data": {
      "image/png": "[encoded data removed]",
      "text/plain": [
       "<Figure size 432x288 with 1 Axes>"
      ]
     },
     "metadata": {
      "needs_background": "light"
     },
     "output_type": "display_data"
    }
   ],
   "source": [
    "plt.figure()\n",
    "plt.plot(data_tuple[2][arr1inds,0],data_tuple[2][arr1inds,1],label='Truth')\n",
    "plt.plot(data_tuple[2][arr1inds,0],variational_mean[arr1inds,0],label='Variational mean')\n",
    "plt.fill_between(x=data_tuple[2][arr1inds,0],y1=variational_mean[arr1inds,0]-3*variational_std[arr1inds,0],y2=variational_mean[arr1inds,0]+3*variational_std[arr1inds,0])\n",
    "# plt.ylim(-100,100)\n",
    "plt.legend()\n",
    "plt.ylim()\n",
    "plt.show()"
   ]
  },
  {
   "cell_type": "code",
   "execution_count": 17,
   "id": "f04456a8",
   "metadata": {},
   "outputs": [
    {
     "data": {
      "image/png": "[encoded data removed]",
      "text/plain": [
       "<Figure size 432x288 with 1 Axes>"
      ]
     },
     "metadata": {
      "needs_background": "light"
     },
     "output_type": "display_data"
    }
   ],
   "source": [
    "plt.figure()\n",
    "plt.plot(data_tuple[2][arr1inds,0],data_tuple[2][arr1inds,1],label='Truth')\n",
    "plt.plot(data_tuple[2][arr1inds,0],dropout_mean[arr1inds,0],label='Dropout mean')\n",
    "plt.fill_between(x=data_tuple[2][arr1inds,0],y1=dropout_mean[arr1inds,0]-3*dropout_std[arr1inds,0],y2=dropout_mean[arr1inds,0]+3*dropout_std[arr1inds,0])\n",
    "plt.legend()\n",
    "plt.ylim()\n",
    "plt.show()"
   ]
  },
  {
   "cell_type": "code",
   "execution_count": 18,
   "id": "5252774d",
   "metadata": {},
   "outputs": [
    {
     "data": {
      "image/png": "[encoded data removed]",
      "text/plain": [
       "<Figure size 432x288 with 1 Axes>"
      ]
     },
     "metadata": {
      "needs_background": "light"
     },
     "output_type": "display_data"
    }
   ],
   "source": [
    "plt.figure()\n",
    "plt.plot(data_tuple[2][arr1inds,0],data_tuple[2][arr1inds,1],label='Truth')\n",
    "plt.plot(data_tuple[2][arr1inds,0],pnn_mean[arr1inds,0],label='PNN mean')\n",
    "plt.fill_between(x=data_tuple[2][arr1inds,0],y1=pnn_mean[arr1inds,0]-3*pnn_std[arr1inds,0],y2=pnn_mean[arr1inds,0]+3*pnn_std[arr1inds,0])\n",
    "plt.legend()\n",
    "plt.ylim()\n",
    "plt.show()"
   ]
  },
  {
   "cell_type": "code",
   "execution_count": 19,
   "id": "bd5a59cf",
   "metadata": {},
   "outputs": [
    {
     "data": {
      "image/png": "[encoded data removed]",
      "text/plain": [
       "<Figure size 432x288 with 1 Axes>"
      ]
     },
     "metadata": {
      "needs_background": "light"
     },
     "output_type": "display_data"
    }
   ],
   "source": [
    "plt.figure()\n",
    "plt.plot(data_tuple[2][arr1inds,0],data_tuple[2][arr1inds,1],label='Truth')\n",
    "plt.plot(data_tuple[2][arr1inds,0],ensemble_mean[arr1inds,0],label='Ensemble mean')\n",
    "plt.fill_between(x=data_tuple[2][arr1inds,0],y1=ensemble_mean[arr1inds,0]-3*ensemble_std[arr1inds,0],y2=ensemble_mean[arr1inds,0]+3*ensemble_std[arr1inds,0])\n",
    "plt.legend()\n",
    "plt.ylim()\n",
    "plt.show()"
   ]
  },
  {
   "cell_type": "code",
   "execution_count": 20,
   "id": "6b0d32e3",
   "metadata": {},
   "outputs": [
    {
     "data": {
      "image/png": "[encoded data removed]",
      "text/plain": [
       "<Figure size 432x288 with 1 Axes>"
      ]
     },
     "metadata": {
      "needs_background": "light"
     },
     "output_type": "display_data"
    }
   ],
   "source": [
    "plt.figure()\n",
    "plt.plot(data_tuple[2][arr1inds,0],data_tuple[2][arr1inds,1],label='Truth')\n",
    "plt.plot(data_tuple[2][arr1inds,0],wa_mean[arr1inds,0],label='SWA mean')\n",
    "plt.fill_between(x=data_tuple[2][arr1inds,0],y1=wa_mean[arr1inds,0]-3*wa_std[arr1inds,0],y2=wa_mean[arr1inds,0]+3*wa_std[arr1inds,0])\n",
    "plt.legend()\n",
    "plt.ylim()\n",
    "plt.show()"
   ]
  },
  {
   "cell_type": "code",
   "execution_count": null,
   "id": "2ce34459",
   "metadata": {},
   "outputs": [],
   "source": []
  }
 ],
 "metadata": {
  "kernelspec": {
   "display_name": "Python 3",
   "language": "python",
   "name": "python3"
  },
  "language_info": {
   "codemirror_mode": {
    "name": "ipython",
    "version": 3
   },
   "file_extension": ".py",
   "mimetype": "text/x-python",
   "name": "python",
   "nbconvert_exporter": "python",
   "pygments_lexer": "ipython3",
   "version": "3.7.9"
  }
 },
 "nbformat": 4,
 "nbformat_minor": 5
}
